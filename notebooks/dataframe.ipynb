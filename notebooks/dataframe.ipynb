{
 "cells": [
  {
   "cell_type": "markdown",
   "id": "f4c0d7c8",
   "metadata": {},
   "source": [
    "# Data frame"
   ]
  },
  {
   "cell_type": "code",
   "execution_count": 1,
   "id": "8b11bdc6",
   "metadata": {},
   "outputs": [],
   "source": [
    "import pandas as pd;"
   ]
  },
  {
   "cell_type": "code",
   "execution_count": 2,
   "id": "aa0c7aee",
   "metadata": {},
   "outputs": [],
   "source": [
    "data = {\n",
    "  \"calories\": [420, 380, 390],\n",
    "  \"duration\": [50, 40, 45]\n",
    "}"
   ]
  },
  {
   "cell_type": "code",
   "execution_count": 4,
   "id": "51513d64",
   "metadata": {},
   "outputs": [
    {
     "data": {
      "text/html": [
       "<div>\n",
       "<style scoped>\n",
       "    .dataframe tbody tr th:only-of-type {\n",
       "        vertical-align: middle;\n",
       "    }\n",
       "\n",
       "    .dataframe tbody tr th {\n",
       "        vertical-align: top;\n",
       "    }\n",
       "\n",
       "    .dataframe thead th {\n",
       "        text-align: right;\n",
       "    }\n",
       "</style>\n",
       "<table border=\"1\" class=\"dataframe\">\n",
       "  <thead>\n",
       "    <tr style=\"text-align: right;\">\n",
       "      <th></th>\n",
       "      <th>calories</th>\n",
       "      <th>duration</th>\n",
       "    </tr>\n",
       "  </thead>\n",
       "  <tbody>\n",
       "    <tr>\n",
       "      <th>0</th>\n",
       "      <td>420</td>\n",
       "      <td>50</td>\n",
       "    </tr>\n",
       "    <tr>\n",
       "      <th>1</th>\n",
       "      <td>380</td>\n",
       "      <td>40</td>\n",
       "    </tr>\n",
       "    <tr>\n",
       "      <th>2</th>\n",
       "      <td>390</td>\n",
       "      <td>45</td>\n",
       "    </tr>\n",
       "  </tbody>\n",
       "</table>\n",
       "</div>"
      ],
      "text/plain": [
       "   calories  duration\n",
       "0       420        50\n",
       "1       380        40\n",
       "2       390        45"
      ]
     },
     "execution_count": 4,
     "metadata": {},
     "output_type": "execute_result"
    }
   ],
   "source": [
    "df = pd.DataFrame(data)\n",
    "df"
   ]
  },
  {
   "cell_type": "code",
   "execution_count": 5,
   "id": "7c78110c",
   "metadata": {},
   "outputs": [],
   "source": [
    "# locate\n"
   ]
  },
  {
   "cell_type": "code",
   "execution_count": 6,
   "id": "6447739d",
   "metadata": {},
   "outputs": [
    {
     "name": "stdout",
     "output_type": "stream",
     "text": [
      "calories    420\n",
      "duration     50\n",
      "Name: 0, dtype: int64\n"
     ]
    }
   ],
   "source": [
    "print(df.loc[0])"
   ]
  },
  {
   "cell_type": "code",
   "execution_count": 9,
   "id": "7ab66594",
   "metadata": {},
   "outputs": [
    {
     "name": "stdout",
     "output_type": "stream",
     "text": [
      "   calories  duration\n",
      "0       420        50\n",
      "1       380        40\n"
     ]
    }
   ],
   "source": [
    "print(df.loc[[0,1]])"
   ]
  },
  {
   "cell_type": "markdown",
   "id": "a7eec291",
   "metadata": {},
   "source": [
    "# Named Indexes"
   ]
  },
  {
   "cell_type": "code",
   "execution_count": 14,
   "id": "45d11741",
   "metadata": {},
   "outputs": [
    {
     "name": "stdout",
     "output_type": "stream",
     "text": [
      "calories    420\n",
      "duration     50\n",
      "Name: day1, dtype: int64\n"
     ]
    }
   ],
   "source": [
    "df = pd.DataFrame(data,index=[\"day1\",\"day2\",\"day3\"])\n",
    "print(df.loc[\"day1\"])"
   ]
  },
  {
   "cell_type": "markdown",
   "id": "763104e8",
   "metadata": {},
   "source": [
    "# Load Files Into a DataFrame\n"
   ]
  },
  {
   "cell_type": "code",
   "execution_count": 16,
   "id": "debc7118",
   "metadata": {},
   "outputs": [
    {
     "name": "stdout",
     "output_type": "stream",
     "text": [
      "      Id  SepalLengthCm  SepalWidthCm  PetalLengthCm  PetalWidthCm  \\\n",
      "0      1            5.1           3.5            1.4           0.2   \n",
      "1      2            4.9           3.0            1.4           0.2   \n",
      "2      3            4.7           3.2            1.3           0.2   \n",
      "3      4            4.6           3.1            1.5           0.2   \n",
      "4      5            5.0           3.6            1.4           0.2   \n",
      "..   ...            ...           ...            ...           ...   \n",
      "145  146            6.7           3.0            5.2           2.3   \n",
      "146  147            6.3           2.5            5.0           1.9   \n",
      "147  148            6.5           3.0            5.2           2.0   \n",
      "148  149            6.2           3.4            5.4           2.3   \n",
      "149  150            5.9           3.0            5.1           1.8   \n",
      "\n",
      "            Species  \n",
      "0       Iris-setosa  \n",
      "1       Iris-setosa  \n",
      "2       Iris-setosa  \n",
      "3       Iris-setosa  \n",
      "4       Iris-setosa  \n",
      "..              ...  \n",
      "145  Iris-virginica  \n",
      "146  Iris-virginica  \n",
      "147  Iris-virginica  \n",
      "148  Iris-virginica  \n",
      "149  Iris-virginica  \n",
      "\n",
      "[150 rows x 6 columns]\n"
     ]
    }
   ],
   "source": [
    "df = pd.read_csv('../data/Iris.csv')\n",
    "print(df)"
   ]
  },
  {
   "cell_type": "code",
   "execution_count": 17,
   "id": "9d09c3cb",
   "metadata": {},
   "outputs": [
    {
     "name": "stdout",
     "output_type": "stream",
     "text": [
      "      Id  SepalLengthCm  SepalWidthCm  PetalLengthCm  PetalWidthCm          Species\n",
      "0      1            5.1           3.5            1.4           0.2      Iris-setosa\n",
      "1      2            4.9           3.0            1.4           0.2      Iris-setosa\n",
      "2      3            4.7           3.2            1.3           0.2      Iris-setosa\n",
      "3      4            4.6           3.1            1.5           0.2      Iris-setosa\n",
      "4      5            5.0           3.6            1.4           0.2      Iris-setosa\n",
      "5      6            5.4           3.9            1.7           0.4      Iris-setosa\n",
      "6      7            4.6           3.4            1.4           0.3      Iris-setosa\n",
      "7      8            5.0           3.4            1.5           0.2      Iris-setosa\n",
      "8      9            4.4           2.9            1.4           0.2      Iris-setosa\n",
      "9     10            4.9           3.1            1.5           0.1      Iris-setosa\n",
      "10    11            5.4           3.7            1.5           0.2      Iris-setosa\n",
      "11    12            4.8           3.4            1.6           0.2      Iris-setosa\n",
      "12    13            4.8           3.0            1.4           0.1      Iris-setosa\n",
      "13    14            4.3           3.0            1.1           0.1      Iris-setosa\n",
      "14    15            5.8           4.0            1.2           0.2      Iris-setosa\n",
      "15    16            5.7           4.4            1.5           0.4      Iris-setosa\n",
      "16    17            5.4           3.9            1.3           0.4      Iris-setosa\n",
      "17    18            5.1           3.5            1.4           0.3      Iris-setosa\n",
      "18    19            5.7           3.8            1.7           0.3      Iris-setosa\n",
      "19    20            5.1           3.8            1.5           0.3      Iris-setosa\n",
      "20    21            5.4           3.4            1.7           0.2      Iris-setosa\n",
      "21    22            5.1           3.7            1.5           0.4      Iris-setosa\n",
      "22    23            4.6           3.6            1.0           0.2      Iris-setosa\n",
      "23    24            5.1           3.3            1.7           0.5      Iris-setosa\n",
      "24    25            4.8           3.4            1.9           0.2      Iris-setosa\n",
      "25    26            5.0           3.0            1.6           0.2      Iris-setosa\n",
      "26    27            5.0           3.4            1.6           0.4      Iris-setosa\n",
      "27    28            5.2           3.5            1.5           0.2      Iris-setosa\n",
      "28    29            5.2           3.4            1.4           0.2      Iris-setosa\n",
      "29    30            4.7           3.2            1.6           0.2      Iris-setosa\n",
      "30    31            4.8           3.1            1.6           0.2      Iris-setosa\n",
      "31    32            5.4           3.4            1.5           0.4      Iris-setosa\n",
      "32    33            5.2           4.1            1.5           0.1      Iris-setosa\n",
      "33    34            5.5           4.2            1.4           0.2      Iris-setosa\n",
      "34    35            4.9           3.1            1.5           0.1      Iris-setosa\n",
      "35    36            5.0           3.2            1.2           0.2      Iris-setosa\n",
      "36    37            5.5           3.5            1.3           0.2      Iris-setosa\n",
      "37    38            4.9           3.1            1.5           0.1      Iris-setosa\n",
      "38    39            4.4           3.0            1.3           0.2      Iris-setosa\n",
      "39    40            5.1           3.4            1.5           0.2      Iris-setosa\n",
      "40    41            5.0           3.5            1.3           0.3      Iris-setosa\n",
      "41    42            4.5           2.3            1.3           0.3      Iris-setosa\n",
      "42    43            4.4           3.2            1.3           0.2      Iris-setosa\n",
      "43    44            5.0           3.5            1.6           0.6      Iris-setosa\n",
      "44    45            5.1           3.8            1.9           0.4      Iris-setosa\n",
      "45    46            4.8           3.0            1.4           0.3      Iris-setosa\n",
      "46    47            5.1           3.8            1.6           0.2      Iris-setosa\n",
      "47    48            4.6           3.2            1.4           0.2      Iris-setosa\n",
      "48    49            5.3           3.7            1.5           0.2      Iris-setosa\n",
      "49    50            5.0           3.3            1.4           0.2      Iris-setosa\n",
      "50    51            7.0           3.2            4.7           1.4  Iris-versicolor\n",
      "51    52            6.4           3.2            4.5           1.5  Iris-versicolor\n",
      "52    53            6.9           3.1            4.9           1.5  Iris-versicolor\n",
      "53    54            5.5           2.3            4.0           1.3  Iris-versicolor\n",
      "54    55            6.5           2.8            4.6           1.5  Iris-versicolor\n",
      "55    56            5.7           2.8            4.5           1.3  Iris-versicolor\n",
      "56    57            6.3           3.3            4.7           1.6  Iris-versicolor\n",
      "57    58            4.9           2.4            3.3           1.0  Iris-versicolor\n",
      "58    59            6.6           2.9            4.6           1.3  Iris-versicolor\n",
      "59    60            5.2           2.7            3.9           1.4  Iris-versicolor\n",
      "60    61            5.0           2.0            3.5           1.0  Iris-versicolor\n",
      "61    62            5.9           3.0            4.2           1.5  Iris-versicolor\n",
      "62    63            6.0           2.2            4.0           1.0  Iris-versicolor\n",
      "63    64            6.1           2.9            4.7           1.4  Iris-versicolor\n",
      "64    65            5.6           2.9            3.6           1.3  Iris-versicolor\n",
      "65    66            6.7           3.1            4.4           1.4  Iris-versicolor\n",
      "66    67            5.6           3.0            4.5           1.5  Iris-versicolor\n",
      "67    68            5.8           2.7            4.1           1.0  Iris-versicolor\n",
      "68    69            6.2           2.2            4.5           1.5  Iris-versicolor\n",
      "69    70            5.6           2.5            3.9           1.1  Iris-versicolor\n",
      "70    71            5.9           3.2            4.8           1.8  Iris-versicolor\n",
      "71    72            6.1           2.8            4.0           1.3  Iris-versicolor\n",
      "72    73            6.3           2.5            4.9           1.5  Iris-versicolor\n",
      "73    74            6.1           2.8            4.7           1.2  Iris-versicolor\n",
      "74    75            6.4           2.9            4.3           1.3  Iris-versicolor\n",
      "75    76            6.6           3.0            4.4           1.4  Iris-versicolor\n",
      "76    77            6.8           2.8            4.8           1.4  Iris-versicolor\n",
      "77    78            6.7           3.0            5.0           1.7  Iris-versicolor\n",
      "78    79            6.0           2.9            4.5           1.5  Iris-versicolor\n",
      "79    80            5.7           2.6            3.5           1.0  Iris-versicolor\n",
      "80    81            5.5           2.4            3.8           1.1  Iris-versicolor\n",
      "81    82            5.5           2.4            3.7           1.0  Iris-versicolor\n",
      "82    83            5.8           2.7            3.9           1.2  Iris-versicolor\n",
      "83    84            6.0           2.7            5.1           1.6  Iris-versicolor\n",
      "84    85            5.4           3.0            4.5           1.5  Iris-versicolor\n",
      "85    86            6.0           3.4            4.5           1.6  Iris-versicolor\n",
      "86    87            6.7           3.1            4.7           1.5  Iris-versicolor\n",
      "87    88            6.3           2.3            4.4           1.3  Iris-versicolor\n",
      "88    89            5.6           3.0            4.1           1.3  Iris-versicolor\n",
      "89    90            5.5           2.5            4.0           1.3  Iris-versicolor\n",
      "90    91            5.5           2.6            4.4           1.2  Iris-versicolor\n",
      "91    92            6.1           3.0            4.6           1.4  Iris-versicolor\n",
      "92    93            5.8           2.6            4.0           1.2  Iris-versicolor\n",
      "93    94            5.0           2.3            3.3           1.0  Iris-versicolor\n",
      "94    95            5.6           2.7            4.2           1.3  Iris-versicolor\n",
      "95    96            5.7           3.0            4.2           1.2  Iris-versicolor\n",
      "96    97            5.7           2.9            4.2           1.3  Iris-versicolor\n",
      "97    98            6.2           2.9            4.3           1.3  Iris-versicolor\n",
      "98    99            5.1           2.5            3.0           1.1  Iris-versicolor\n",
      "99   100            5.7           2.8            4.1           1.3  Iris-versicolor\n",
      "100  101            6.3           3.3            6.0           2.5   Iris-virginica\n",
      "101  102            5.8           2.7            5.1           1.9   Iris-virginica\n",
      "102  103            7.1           3.0            5.9           2.1   Iris-virginica\n",
      "103  104            6.3           2.9            5.6           1.8   Iris-virginica\n",
      "104  105            6.5           3.0            5.8           2.2   Iris-virginica\n",
      "105  106            7.6           3.0            6.6           2.1   Iris-virginica\n",
      "106  107            4.9           2.5            4.5           1.7   Iris-virginica\n",
      "107  108            7.3           2.9            6.3           1.8   Iris-virginica\n",
      "108  109            6.7           2.5            5.8           1.8   Iris-virginica\n",
      "109  110            7.2           3.6            6.1           2.5   Iris-virginica\n",
      "110  111            6.5           3.2            5.1           2.0   Iris-virginica\n",
      "111  112            6.4           2.7            5.3           1.9   Iris-virginica\n",
      "112  113            6.8           3.0            5.5           2.1   Iris-virginica\n",
      "113  114            5.7           2.5            5.0           2.0   Iris-virginica\n",
      "114  115            5.8           2.8            5.1           2.4   Iris-virginica\n",
      "115  116            6.4           3.2            5.3           2.3   Iris-virginica\n",
      "116  117            6.5           3.0            5.5           1.8   Iris-virginica\n",
      "117  118            7.7           3.8            6.7           2.2   Iris-virginica\n",
      "118  119            7.7           2.6            6.9           2.3   Iris-virginica\n",
      "119  120            6.0           2.2            5.0           1.5   Iris-virginica\n",
      "120  121            6.9           3.2            5.7           2.3   Iris-virginica\n",
      "121  122            5.6           2.8            4.9           2.0   Iris-virginica\n",
      "122  123            7.7           2.8            6.7           2.0   Iris-virginica\n",
      "123  124            6.3           2.7            4.9           1.8   Iris-virginica\n",
      "124  125            6.7           3.3            5.7           2.1   Iris-virginica\n",
      "125  126            7.2           3.2            6.0           1.8   Iris-virginica\n",
      "126  127            6.2           2.8            4.8           1.8   Iris-virginica\n",
      "127  128            6.1           3.0            4.9           1.8   Iris-virginica\n",
      "128  129            6.4           2.8            5.6           2.1   Iris-virginica\n",
      "129  130            7.2           3.0            5.8           1.6   Iris-virginica\n",
      "130  131            7.4           2.8            6.1           1.9   Iris-virginica\n",
      "131  132            7.9           3.8            6.4           2.0   Iris-virginica\n",
      "132  133            6.4           2.8            5.6           2.2   Iris-virginica\n",
      "133  134            6.3           2.8            5.1           1.5   Iris-virginica\n",
      "134  135            6.1           2.6            5.6           1.4   Iris-virginica\n",
      "135  136            7.7           3.0            6.1           2.3   Iris-virginica\n",
      "136  137            6.3           3.4            5.6           2.4   Iris-virginica\n",
      "137  138            6.4           3.1            5.5           1.8   Iris-virginica\n",
      "138  139            6.0           3.0            4.8           1.8   Iris-virginica\n",
      "139  140            6.9           3.1            5.4           2.1   Iris-virginica\n",
      "140  141            6.7           3.1            5.6           2.4   Iris-virginica\n",
      "141  142            6.9           3.1            5.1           2.3   Iris-virginica\n",
      "142  143            5.8           2.7            5.1           1.9   Iris-virginica\n",
      "143  144            6.8           3.2            5.9           2.3   Iris-virginica\n",
      "144  145            6.7           3.3            5.7           2.5   Iris-virginica\n",
      "145  146            6.7           3.0            5.2           2.3   Iris-virginica\n",
      "146  147            6.3           2.5            5.0           1.9   Iris-virginica\n",
      "147  148            6.5           3.0            5.2           2.0   Iris-virginica\n",
      "148  149            6.2           3.4            5.4           2.3   Iris-virginica\n",
      "149  150            5.9           3.0            5.1           1.8   Iris-virginica\n"
     ]
    }
   ],
   "source": [
    "print(df.to_string())"
   ]
  },
  {
   "cell_type": "markdown",
   "id": "41a5786b",
   "metadata": {},
   "source": [
    "# Max Rows"
   ]
  },
  {
   "cell_type": "code",
   "execution_count": 23,
   "id": "66c57b32",
   "metadata": {},
   "outputs": [
    {
     "data": {
      "text/html": [
       "<div>\n",
       "<style scoped>\n",
       "    .dataframe tbody tr th:only-of-type {\n",
       "        vertical-align: middle;\n",
       "    }\n",
       "\n",
       "    .dataframe tbody tr th {\n",
       "        vertical-align: top;\n",
       "    }\n",
       "\n",
       "    .dataframe thead th {\n",
       "        text-align: right;\n",
       "    }\n",
       "</style>\n",
       "<table border=\"1\" class=\"dataframe\">\n",
       "  <thead>\n",
       "    <tr style=\"text-align: right;\">\n",
       "      <th></th>\n",
       "      <th>Id</th>\n",
       "      <th>SepalLengthCm</th>\n",
       "      <th>SepalWidthCm</th>\n",
       "      <th>PetalLengthCm</th>\n",
       "      <th>PetalWidthCm</th>\n",
       "      <th>Species</th>\n",
       "    </tr>\n",
       "  </thead>\n",
       "  <tbody>\n",
       "    <tr>\n",
       "      <th>0</th>\n",
       "      <td>1</td>\n",
       "      <td>5.1</td>\n",
       "      <td>3.5</td>\n",
       "      <td>1.4</td>\n",
       "      <td>0.2</td>\n",
       "      <td>Iris-setosa</td>\n",
       "    </tr>\n",
       "    <tr>\n",
       "      <th>1</th>\n",
       "      <td>2</td>\n",
       "      <td>4.9</td>\n",
       "      <td>3.0</td>\n",
       "      <td>1.4</td>\n",
       "      <td>0.2</td>\n",
       "      <td>Iris-setosa</td>\n",
       "    </tr>\n",
       "    <tr>\n",
       "      <th>2</th>\n",
       "      <td>3</td>\n",
       "      <td>4.7</td>\n",
       "      <td>3.2</td>\n",
       "      <td>1.3</td>\n",
       "      <td>0.2</td>\n",
       "      <td>Iris-setosa</td>\n",
       "    </tr>\n",
       "    <tr>\n",
       "      <th>3</th>\n",
       "      <td>4</td>\n",
       "      <td>4.6</td>\n",
       "      <td>3.1</td>\n",
       "      <td>1.5</td>\n",
       "      <td>0.2</td>\n",
       "      <td>Iris-setosa</td>\n",
       "    </tr>\n",
       "    <tr>\n",
       "      <th>4</th>\n",
       "      <td>5</td>\n",
       "      <td>5.0</td>\n",
       "      <td>3.6</td>\n",
       "      <td>1.4</td>\n",
       "      <td>0.2</td>\n",
       "      <td>Iris-setosa</td>\n",
       "    </tr>\n",
       "    <tr>\n",
       "      <th>...</th>\n",
       "      <td>...</td>\n",
       "      <td>...</td>\n",
       "      <td>...</td>\n",
       "      <td>...</td>\n",
       "      <td>...</td>\n",
       "      <td>...</td>\n",
       "    </tr>\n",
       "    <tr>\n",
       "      <th>145</th>\n",
       "      <td>146</td>\n",
       "      <td>6.7</td>\n",
       "      <td>3.0</td>\n",
       "      <td>5.2</td>\n",
       "      <td>2.3</td>\n",
       "      <td>Iris-virginica</td>\n",
       "    </tr>\n",
       "    <tr>\n",
       "      <th>146</th>\n",
       "      <td>147</td>\n",
       "      <td>6.3</td>\n",
       "      <td>2.5</td>\n",
       "      <td>5.0</td>\n",
       "      <td>1.9</td>\n",
       "      <td>Iris-virginica</td>\n",
       "    </tr>\n",
       "    <tr>\n",
       "      <th>147</th>\n",
       "      <td>148</td>\n",
       "      <td>6.5</td>\n",
       "      <td>3.0</td>\n",
       "      <td>5.2</td>\n",
       "      <td>2.0</td>\n",
       "      <td>Iris-virginica</td>\n",
       "    </tr>\n",
       "    <tr>\n",
       "      <th>148</th>\n",
       "      <td>149</td>\n",
       "      <td>6.2</td>\n",
       "      <td>3.4</td>\n",
       "      <td>5.4</td>\n",
       "      <td>2.3</td>\n",
       "      <td>Iris-virginica</td>\n",
       "    </tr>\n",
       "    <tr>\n",
       "      <th>149</th>\n",
       "      <td>150</td>\n",
       "      <td>5.9</td>\n",
       "      <td>3.0</td>\n",
       "      <td>5.1</td>\n",
       "      <td>1.8</td>\n",
       "      <td>Iris-virginica</td>\n",
       "    </tr>\n",
       "  </tbody>\n",
       "</table>\n",
       "<p>150 rows × 6 columns</p>\n",
       "</div>"
      ],
      "text/plain": [
       "      Id  SepalLengthCm  SepalWidthCm  PetalLengthCm  PetalWidthCm  \\\n",
       "0      1            5.1           3.5            1.4           0.2   \n",
       "1      2            4.9           3.0            1.4           0.2   \n",
       "2      3            4.7           3.2            1.3           0.2   \n",
       "3      4            4.6           3.1            1.5           0.2   \n",
       "4      5            5.0           3.6            1.4           0.2   \n",
       "..   ...            ...           ...            ...           ...   \n",
       "145  146            6.7           3.0            5.2           2.3   \n",
       "146  147            6.3           2.5            5.0           1.9   \n",
       "147  148            6.5           3.0            5.2           2.0   \n",
       "148  149            6.2           3.4            5.4           2.3   \n",
       "149  150            5.9           3.0            5.1           1.8   \n",
       "\n",
       "            Species  \n",
       "0       Iris-setosa  \n",
       "1       Iris-setosa  \n",
       "2       Iris-setosa  \n",
       "3       Iris-setosa  \n",
       "4       Iris-setosa  \n",
       "..              ...  \n",
       "145  Iris-virginica  \n",
       "146  Iris-virginica  \n",
       "147  Iris-virginica  \n",
       "148  Iris-virginica  \n",
       "149  Iris-virginica  \n",
       "\n",
       "[150 rows x 6 columns]"
      ]
     },
     "execution_count": 23,
     "metadata": {},
     "output_type": "execute_result"
    }
   ],
   "source": [
    "pd.options.display.max_rows=99\n",
    "df"
   ]
  },
  {
   "cell_type": "markdown",
   "id": "f6446674",
   "metadata": {},
   "source": [
    "# Read JSON"
   ]
  },
  {
   "cell_type": "code",
   "execution_count": 27,
   "id": "edef61b7",
   "metadata": {},
   "outputs": [
    {
     "data": {
      "text/plain": [
       "'     Duration  Pulse  Maxpulse  Calories\\n0          60    110       130     409.1\\n1          60    117       145     479.0\\n2          60    103       135     340.0\\n3          45    109       175     282.4\\n4          45    117       148     406.0\\n5          60    102       127     300.5\\n6          60    110       136     374.0\\n7          45    104       134     253.3\\n8          30    109       133     195.1\\n9          60     98       124     269.0\\n10         60    103       147     329.3\\n11         60    100       120     250.7\\n12         60    106       128     345.3\\n13         60    104       132     379.3\\n14         60     98       123     275.0\\n15         60     98       120     215.2\\n16         60    100       120     300.0\\n17         45     90       112       NaN\\n18         60    103       123     323.0\\n19         45     97       125     243.0\\n20         60    108       131     364.2\\n21         45    100       119     282.0\\n22         60    130       101     300.0\\n23         45    105       132     246.0\\n24         60    102       126     334.5\\n25         60    100       120     250.0\\n26         60     92       118     241.0\\n27         60    103       132       NaN\\n28         60    100       132     280.0\\n29         60    102       129     380.3\\n30         60     92       115     243.0\\n31         45     90       112     180.1\\n32         60    101       124     299.0\\n33         60     93       113     223.0\\n34         60    107       136     361.0\\n35         60    114       140     415.0\\n36         60    102       127     300.5\\n37         60    100       120     300.1\\n38         60    100       120     300.0\\n39         45    104       129     266.0\\n40         45     90       112     180.1\\n41         60     98       126     286.0\\n42         60    100       122     329.4\\n43         60    111       138     400.0\\n44         60    111       131     397.0\\n45         60     99       119     273.0\\n46         60    109       153     387.6\\n47         45    111       136     300.0\\n48         45    108       129     298.0\\n49         60    111       139     397.6\\n50         60    107       136     380.2\\n51         80    123       146     643.1\\n52         60    106       130     263.0\\n53         60    118       151     486.0\\n54         30    136       175     238.0\\n55         60    121       146     450.7\\n56         60    118       121     413.0\\n57         45    115       144     305.0\\n58         20    153       172     226.4\\n59         45    123       152     321.0\\n60        210    108       160    1376.0\\n61        160    110       137    1034.4\\n62        160    109       135     853.0\\n63         45    118       141     341.0\\n64         20    110       130     131.4\\n65        180     90       130     800.4\\n66        150    105       135     873.4\\n67        150    107       130     816.0\\n68         20    106       136     110.4\\n69        300    108       143    1500.2\\n70        150     97       129    1115.0\\n71         60    109       153     387.6\\n72         90    100       127     700.0\\n73        150     97       127     953.2\\n74         45    114       146     304.0\\n75         90     98       125     563.2\\n76         45    105       134     251.0\\n77         45    110       141     300.0\\n78        120    100       130     500.4\\n79        270    100       131    1729.0\\n80         30    159       182     319.2\\n81         45    149       169     344.0\\n82         30    103       139     151.1\\n83        120    100       130     500.0\\n84         45    100       120     225.3\\n85         30    151       170     300.1\\n86         45    102       136     234.0\\n87        120    100       157    1000.1\\n88         45    129       103     242.0\\n89         20     83       107      50.3\\n90        180    101       127     600.1\\n91         45    107       137       NaN\\n92         30     90       107     105.3\\n93         15     80       100      50.5\\n94         20    150       171     127.4\\n95         20    151       168     229.4\\n96         30     95       128     128.2\\n97         25    152       168     244.2\\n98         30    109       131     188.2\\n99         90     93       124     604.1\\n100        20     95       112      77.7\\n101        90     90       110     500.0\\n102        90     90       100     500.0\\n103        90     90       100     500.4\\n104        30     92       108      92.7\\n105        30     93       128     124.0\\n106       180     90       120     800.3\\n107        30     90       120      86.2\\n108        90     90       120     500.3\\n109       210    137       184    1860.4\\n110        60    102       124     325.2\\n111        45    107       124     275.0\\n112        15    124       139     124.2\\n113        45    100       120     225.3\\n114        60    108       131     367.6\\n115        60    108       151     351.7\\n116        60    116       141     443.0\\n117        60     97       122     277.4\\n118        60    105       125       NaN\\n119        60    103       124     332.7\\n120        30    112       137     193.9\\n121        45    100       120     100.7\\n122        60    119       169     336.7\\n123        60    107       127     344.9\\n124        60    111       151     368.5\\n125        60     98       122     271.0\\n126        60     97       124     275.3\\n127        60    109       127     382.0\\n128        90     99       125     466.4\\n129        60    114       151     384.0\\n130        60    104       134     342.5\\n131        60    107       138     357.5\\n132        60    103       133     335.0\\n133        60    106       132     327.5\\n134        60    103       136     339.0\\n135        20    136       156     189.0\\n136        45    117       143     317.7\\n137        45    115       137     318.0\\n138        45    113       138     308.0\\n139        20    141       162     222.4\\n140        60    108       135     390.0\\n141        60     97       127       NaN\\n142        45    100       120     250.4\\n143        45    122       149     335.4\\n144        60    136       170     470.2\\n145        45    106       126     270.8\\n146        60    107       136     400.0\\n147        60    112       146     361.9\\n148        30    103       127     185.0\\n149        60    110       150     409.4\\n150        60    106       134     343.0\\n151        60    109       129     353.2\\n152        60    109       138     374.0\\n153        30    150       167     275.8\\n154        60    105       128     328.0\\n155        60    111       151     368.5\\n156        60     97       131     270.4\\n157        60    100       120     270.4\\n158        60    114       150     382.8\\n159        30     80       120     240.9\\n160        30     85       120     250.4\\n161        45     90       130     260.4\\n162        45     95       130     270.0\\n163        45    100       140     280.9\\n164        60    105       140     290.8\\n165        60    110       145     300.4\\n166        60    115       145     310.2\\n167        75    120       150     320.4\\n168        75    125       150     330.4'"
      ]
     },
     "execution_count": 27,
     "metadata": {},
     "output_type": "execute_result"
    }
   ],
   "source": [
    "jdf = pd.read_json('../data/data.json')\n",
    "# jdf\n",
    "jdf.to_string()"
   ]
  },
  {
   "cell_type": "code",
   "execution_count": 28,
   "id": "148b1464",
   "metadata": {},
   "outputs": [
    {
     "name": "stdout",
     "output_type": "stream",
     "text": [
      "   Id  SepalLengthCm  SepalWidthCm  PetalLengthCm  PetalWidthCm      Species\n",
      "0   1            5.1           3.5            1.4           0.2  Iris-setosa\n",
      "1   2            4.9           3.0            1.4           0.2  Iris-setosa\n",
      "2   3            4.7           3.2            1.3           0.2  Iris-setosa\n",
      "3   4            4.6           3.1            1.5           0.2  Iris-setosa\n",
      "4   5            5.0           3.6            1.4           0.2  Iris-setosa\n"
     ]
    }
   ],
   "source": [
    "print(df.head())"
   ]
  },
  {
   "cell_type": "code",
   "execution_count": 29,
   "id": "2350e891",
   "metadata": {},
   "outputs": [
    {
     "name": "stdout",
     "output_type": "stream",
     "text": [
      "   Id  SepalLengthCm  SepalWidthCm  PetalLengthCm  PetalWidthCm      Species\n",
      "0   1            5.1           3.5            1.4           0.2  Iris-setosa\n",
      "1   2            4.9           3.0            1.4           0.2  Iris-setosa\n",
      "2   3            4.7           3.2            1.3           0.2  Iris-setosa\n",
      "3   4            4.6           3.1            1.5           0.2  Iris-setosa\n",
      "4   5            5.0           3.6            1.4           0.2  Iris-setosa\n",
      "5   6            5.4           3.9            1.7           0.4  Iris-setosa\n",
      "6   7            4.6           3.4            1.4           0.3  Iris-setosa\n",
      "7   8            5.0           3.4            1.5           0.2  Iris-setosa\n",
      "8   9            4.4           2.9            1.4           0.2  Iris-setosa\n",
      "9  10            4.9           3.1            1.5           0.1  Iris-setosa\n"
     ]
    }
   ],
   "source": [
    "print(df.head(10))"
   ]
  },
  {
   "cell_type": "code",
   "execution_count": 30,
   "id": "6b92c485",
   "metadata": {},
   "outputs": [
    {
     "name": "stdout",
     "output_type": "stream",
     "text": [
      "      Id  SepalLengthCm  SepalWidthCm  PetalLengthCm  PetalWidthCm  \\\n",
      "145  146            6.7           3.0            5.2           2.3   \n",
      "146  147            6.3           2.5            5.0           1.9   \n",
      "147  148            6.5           3.0            5.2           2.0   \n",
      "148  149            6.2           3.4            5.4           2.3   \n",
      "149  150            5.9           3.0            5.1           1.8   \n",
      "\n",
      "            Species  \n",
      "145  Iris-virginica  \n",
      "146  Iris-virginica  \n",
      "147  Iris-virginica  \n",
      "148  Iris-virginica  \n",
      "149  Iris-virginica  \n"
     ]
    }
   ],
   "source": [
    "print(df.tail())"
   ]
  },
  {
   "cell_type": "code",
   "execution_count": 31,
   "id": "99b1a53f",
   "metadata": {},
   "outputs": [
    {
     "name": "stdout",
     "output_type": "stream",
     "text": [
      "      Id  SepalLengthCm  SepalWidthCm  PetalLengthCm  PetalWidthCm  \\\n",
      "140  141            6.7           3.1            5.6           2.4   \n",
      "141  142            6.9           3.1            5.1           2.3   \n",
      "142  143            5.8           2.7            5.1           1.9   \n",
      "143  144            6.8           3.2            5.9           2.3   \n",
      "144  145            6.7           3.3            5.7           2.5   \n",
      "145  146            6.7           3.0            5.2           2.3   \n",
      "146  147            6.3           2.5            5.0           1.9   \n",
      "147  148            6.5           3.0            5.2           2.0   \n",
      "148  149            6.2           3.4            5.4           2.3   \n",
      "149  150            5.9           3.0            5.1           1.8   \n",
      "\n",
      "            Species  \n",
      "140  Iris-virginica  \n",
      "141  Iris-virginica  \n",
      "142  Iris-virginica  \n",
      "143  Iris-virginica  \n",
      "144  Iris-virginica  \n",
      "145  Iris-virginica  \n",
      "146  Iris-virginica  \n",
      "147  Iris-virginica  \n",
      "148  Iris-virginica  \n",
      "149  Iris-virginica  \n"
     ]
    }
   ],
   "source": [
    "print(df.tail(10))"
   ]
  },
  {
   "cell_type": "markdown",
   "id": "a7e6f538",
   "metadata": {},
   "source": [
    "# info"
   ]
  },
  {
   "cell_type": "code",
   "execution_count": 32,
   "id": "353c74a2",
   "metadata": {},
   "outputs": [
    {
     "name": "stdout",
     "output_type": "stream",
     "text": [
      "<class 'pandas.core.frame.DataFrame'>\n",
      "RangeIndex: 150 entries, 0 to 149\n",
      "Data columns (total 6 columns):\n",
      " #   Column         Non-Null Count  Dtype  \n",
      "---  ------         --------------  -----  \n",
      " 0   Id             150 non-null    int64  \n",
      " 1   SepalLengthCm  150 non-null    float64\n",
      " 2   SepalWidthCm   150 non-null    float64\n",
      " 3   PetalLengthCm  150 non-null    float64\n",
      " 4   PetalWidthCm   150 non-null    float64\n",
      " 5   Species        150 non-null    object \n",
      "dtypes: float64(4), int64(1), object(1)\n",
      "memory usage: 7.2+ KB\n"
     ]
    }
   ],
   "source": [
    "df.info()"
   ]
  },
  {
   "cell_type": "markdown",
   "id": "16865b22",
   "metadata": {},
   "source": [
    "# Cleaning Data\n",
    "Bad data could be:\n",
    "\n",
    "- Empty cells\n",
    "- Data in wrong format\n",
    "- Wrong data\n",
    "- Duplicates"
   ]
  },
  {
   "cell_type": "markdown",
   "id": "bf348d9b",
   "metadata": {},
   "source": [
    "# Empty Cells\n"
   ]
  },
  {
   "cell_type": "markdown",
   "id": "1c10ce59",
   "metadata": {},
   "source": [
    "- Remove Rows"
   ]
  },
  {
   "cell_type": "code",
   "execution_count": 40,
   "id": "19e0a91c",
   "metadata": {},
   "outputs": [
    {
     "data": {
      "text/plain": [
       "'      Id  SepalLengthCm  SepalWidthCm  PetalLengthCm  PetalWidthCm          Species\\n0      1            5.1           3.5            1.4           0.2      Iris-setosa\\n1      2            4.9           3.0            1.4           0.2      Iris-setosa\\n2      3            4.7           3.2            1.3           0.2      Iris-setosa\\n3      4            4.6           3.1            1.5           0.2      Iris-setosa\\n4      5            5.0           3.6            1.4           0.2      Iris-setosa\\n5      6            5.4           3.9            1.7           0.4      Iris-setosa\\n6      7            4.6           3.4            1.4           0.3      Iris-setosa\\n7      8            5.0           3.4            1.5           0.2      Iris-setosa\\n8      9            4.4           2.9            1.4           0.2      Iris-setosa\\n9     10            4.9           3.1            1.5           0.1      Iris-setosa\\n10    11            5.4           3.7            1.5           0.2      Iris-setosa\\n11    12            4.8           3.4            1.6           0.2      Iris-setosa\\n12    13            4.8           3.0            1.4           0.1      Iris-setosa\\n13    14            4.3           3.0            1.1           0.1      Iris-setosa\\n14    15            5.8           4.0            1.2           0.2      Iris-setosa\\n15    16            5.7           4.4            1.5           0.4      Iris-setosa\\n16    17            5.4           3.9            1.3           0.4      Iris-setosa\\n17    18            5.1           3.5            1.4           0.3      Iris-setosa\\n18    19            5.7           3.8            1.7           0.3      Iris-setosa\\n19    20            5.1           3.8            1.5           0.3      Iris-setosa\\n20    21            5.4           3.4            1.7           0.2      Iris-setosa\\n21    22            5.1           3.7            1.5           0.4      Iris-setosa\\n22    23            4.6           3.6            1.0           0.2      Iris-setosa\\n23    24            5.1           3.3            1.7           0.5      Iris-setosa\\n24    25            4.8           3.4            1.9           0.2      Iris-setosa\\n25    26            5.0           3.0            1.6           0.2      Iris-setosa\\n26    27            5.0           3.4            1.6           0.4      Iris-setosa\\n27    28            5.2           3.5            1.5           0.2      Iris-setosa\\n28    29            5.2           3.4            1.4           0.2      Iris-setosa\\n29    30            4.7           3.2            1.6           0.2      Iris-setosa\\n30    31            4.8           3.1            1.6           0.2      Iris-setosa\\n31    32            5.4           3.4            1.5           0.4      Iris-setosa\\n32    33            5.2           4.1            1.5           0.1      Iris-setosa\\n33    34            5.5           4.2            1.4           0.2      Iris-setosa\\n34    35            4.9           3.1            1.5           0.1      Iris-setosa\\n35    36            5.0           3.2            1.2           0.2      Iris-setosa\\n36    37            5.5           3.5            1.3           0.2      Iris-setosa\\n37    38            4.9           3.1            1.5           0.1      Iris-setosa\\n38    39            4.4           3.0            1.3           0.2      Iris-setosa\\n39    40            5.1           3.4            1.5           0.2      Iris-setosa\\n40    41            5.0           3.5            1.3           0.3      Iris-setosa\\n41    42            4.5           2.3            1.3           0.3      Iris-setosa\\n42    43            4.4           3.2            1.3           0.2      Iris-setosa\\n43    44            5.0           3.5            1.6           0.6      Iris-setosa\\n44    45            5.1           3.8            1.9           0.4      Iris-setosa\\n45    46            4.8           3.0            1.4           0.3      Iris-setosa\\n46    47            5.1           3.8            1.6           0.2      Iris-setosa\\n47    48            4.6           3.2            1.4           0.2      Iris-setosa\\n48    49            5.3           3.7            1.5           0.2      Iris-setosa\\n49    50            5.0           3.3            1.4           0.2      Iris-setosa\\n50    51            7.0           3.2            4.7           1.4  Iris-versicolor\\n51    52            6.4           3.2            4.5           1.5  Iris-versicolor\\n52    53            6.9           3.1            4.9           1.5  Iris-versicolor\\n53    54            5.5           2.3            4.0           1.3  Iris-versicolor\\n54    55            6.5           2.8            4.6           1.5  Iris-versicolor\\n55    56            5.7           2.8            4.5           1.3  Iris-versicolor\\n56    57            6.3           3.3            4.7           1.6  Iris-versicolor\\n57    58            4.9           2.4            3.3           1.0  Iris-versicolor\\n58    59            6.6           2.9            4.6           1.3  Iris-versicolor\\n59    60            5.2           2.7            3.9           1.4  Iris-versicolor\\n60    61            5.0           2.0            3.5           1.0  Iris-versicolor\\n61    62            5.9           3.0            4.2           1.5  Iris-versicolor\\n62    63            6.0           2.2            4.0           1.0  Iris-versicolor\\n63    64            6.1           2.9            4.7           1.4  Iris-versicolor\\n64    65            5.6           2.9            3.6           1.3  Iris-versicolor\\n65    66            6.7           3.1            4.4           1.4  Iris-versicolor\\n66    67            5.6           3.0            4.5           1.5  Iris-versicolor\\n67    68            5.8           2.7            4.1           1.0  Iris-versicolor\\n68    69            6.2           2.2            4.5           1.5  Iris-versicolor\\n69    70            5.6           2.5            3.9           1.1  Iris-versicolor\\n70    71            5.9           3.2            4.8           1.8  Iris-versicolor\\n71    72            6.1           2.8            4.0           1.3  Iris-versicolor\\n72    73            6.3           2.5            4.9           1.5  Iris-versicolor\\n73    74            6.1           2.8            4.7           1.2  Iris-versicolor\\n74    75            6.4           2.9            4.3           1.3  Iris-versicolor\\n75    76            6.6           3.0            4.4           1.4  Iris-versicolor\\n76    77            6.8           2.8            4.8           1.4  Iris-versicolor\\n77    78            6.7           3.0            5.0           1.7  Iris-versicolor\\n78    79            6.0           2.9            4.5           1.5  Iris-versicolor\\n79    80            5.7           2.6            3.5           1.0  Iris-versicolor\\n80    81            5.5           2.4            3.8           1.1  Iris-versicolor\\n81    82            5.5           2.4            3.7           1.0  Iris-versicolor\\n82    83            5.8           2.7            3.9           1.2  Iris-versicolor\\n83    84            6.0           2.7            5.1           1.6  Iris-versicolor\\n84    85            5.4           3.0            4.5           1.5  Iris-versicolor\\n85    86            6.0           3.4            4.5           1.6  Iris-versicolor\\n86    87            6.7           3.1            4.7           1.5  Iris-versicolor\\n87    88            6.3           2.3            4.4           1.3  Iris-versicolor\\n88    89            5.6           3.0            4.1           1.3  Iris-versicolor\\n89    90            5.5           2.5            4.0           1.3  Iris-versicolor\\n90    91            5.5           2.6            4.4           1.2  Iris-versicolor\\n91    92            6.1           3.0            4.6           1.4  Iris-versicolor\\n92    93            5.8           2.6            4.0           1.2  Iris-versicolor\\n93    94            5.0           2.3            3.3           1.0  Iris-versicolor\\n94    95            5.6           2.7            4.2           1.3  Iris-versicolor\\n95    96            5.7           3.0            4.2           1.2  Iris-versicolor\\n96    97            5.7           2.9            4.2           1.3  Iris-versicolor\\n97    98            6.2           2.9            4.3           1.3  Iris-versicolor\\n98    99            5.1           2.5            3.0           1.1  Iris-versicolor\\n99   100            5.7           2.8            4.1           1.3  Iris-versicolor\\n100  101            6.3           3.3            6.0           2.5   Iris-virginica\\n101  102            5.8           2.7            5.1           1.9   Iris-virginica\\n102  103            7.1           3.0            5.9           2.1   Iris-virginica\\n103  104            6.3           2.9            5.6           1.8   Iris-virginica\\n104  105            6.5           3.0            5.8           2.2   Iris-virginica\\n105  106            7.6           3.0            6.6           2.1   Iris-virginica\\n106  107            4.9           2.5            4.5           1.7   Iris-virginica\\n107  108            7.3           2.9            6.3           1.8   Iris-virginica\\n108  109            6.7           2.5            5.8           1.8   Iris-virginica\\n109  110            7.2           3.6            6.1           2.5   Iris-virginica\\n110  111            6.5           3.2            5.1           2.0   Iris-virginica\\n111  112            6.4           2.7            5.3           1.9   Iris-virginica\\n112  113            6.8           3.0            5.5           2.1   Iris-virginica\\n113  114            5.7           2.5            5.0           2.0   Iris-virginica\\n114  115            5.8           2.8            5.1           2.4   Iris-virginica\\n115  116            6.4           3.2            5.3           2.3   Iris-virginica\\n116  117            6.5           3.0            5.5           1.8   Iris-virginica\\n117  118            7.7           3.8            6.7           2.2   Iris-virginica\\n118  119            7.7           2.6            6.9           2.3   Iris-virginica\\n119  120            6.0           2.2            5.0           1.5   Iris-virginica\\n120  121            6.9           3.2            5.7           2.3   Iris-virginica\\n121  122            5.6           2.8            4.9           2.0   Iris-virginica\\n122  123            7.7           2.8            6.7           2.0   Iris-virginica\\n123  124            6.3           2.7            4.9           1.8   Iris-virginica\\n124  125            6.7           3.3            5.7           2.1   Iris-virginica\\n125  126            7.2           3.2            6.0           1.8   Iris-virginica\\n126  127            6.2           2.8            4.8           1.8   Iris-virginica\\n127  128            6.1           3.0            4.9           1.8   Iris-virginica\\n128  129            6.4           2.8            5.6           2.1   Iris-virginica\\n129  130            7.2           3.0            5.8           1.6   Iris-virginica\\n130  131            7.4           2.8            6.1           1.9   Iris-virginica\\n131  132            7.9           3.8            6.4           2.0   Iris-virginica\\n132  133            6.4           2.8            5.6           2.2   Iris-virginica\\n133  134            6.3           2.8            5.1           1.5   Iris-virginica\\n134  135            6.1           2.6            5.6           1.4   Iris-virginica\\n135  136            7.7           3.0            6.1           2.3   Iris-virginica\\n136  137            6.3           3.4            5.6           2.4   Iris-virginica\\n137  138            6.4           3.1            5.5           1.8   Iris-virginica\\n138  139            6.0           3.0            4.8           1.8   Iris-virginica\\n139  140            6.9           3.1            5.4           2.1   Iris-virginica\\n140  141            6.7           3.1            5.6           2.4   Iris-virginica\\n141  142            6.9           3.1            5.1           2.3   Iris-virginica\\n142  143            5.8           2.7            5.1           1.9   Iris-virginica\\n143  144            6.8           3.2            5.9           2.3   Iris-virginica\\n144  145            6.7           3.3            5.7           2.5   Iris-virginica\\n145  146            6.7           3.0            5.2           2.3   Iris-virginica\\n146  147            6.3           2.5            5.0           1.9   Iris-virginica\\n147  148            6.5           3.0            5.2           2.0   Iris-virginica\\n148  149            6.2           3.4            5.4           2.3   Iris-virginica\\n149  150            5.9           3.0            5.1           1.8   Iris-virginica'"
      ]
     },
     "execution_count": 40,
     "metadata": {},
     "output_type": "execute_result"
    }
   ],
   "source": [
    "new_df = df.dropna()\n",
    "new_df.to_string()\n"
   ]
  },
  {
   "cell_type": "code",
   "execution_count": 42,
   "id": "8a7f3077",
   "metadata": {},
   "outputs": [
    {
     "data": {
      "text/html": [
       "<div>\n",
       "<style scoped>\n",
       "    .dataframe tbody tr th:only-of-type {\n",
       "        vertical-align: middle;\n",
       "    }\n",
       "\n",
       "    .dataframe tbody tr th {\n",
       "        vertical-align: top;\n",
       "    }\n",
       "\n",
       "    .dataframe thead th {\n",
       "        text-align: right;\n",
       "    }\n",
       "</style>\n",
       "<table border=\"1\" class=\"dataframe\">\n",
       "  <thead>\n",
       "    <tr style=\"text-align: right;\">\n",
       "      <th></th>\n",
       "      <th>Id</th>\n",
       "      <th>SepalLengthCm</th>\n",
       "      <th>SepalWidthCm</th>\n",
       "      <th>PetalLengthCm</th>\n",
       "      <th>PetalWidthCm</th>\n",
       "      <th>Species</th>\n",
       "    </tr>\n",
       "  </thead>\n",
       "  <tbody>\n",
       "    <tr>\n",
       "      <th>0</th>\n",
       "      <td>1</td>\n",
       "      <td>5.1</td>\n",
       "      <td>3.5</td>\n",
       "      <td>1.4</td>\n",
       "      <td>0.2</td>\n",
       "      <td>Iris-setosa</td>\n",
       "    </tr>\n",
       "    <tr>\n",
       "      <th>1</th>\n",
       "      <td>2</td>\n",
       "      <td>4.9</td>\n",
       "      <td>3.0</td>\n",
       "      <td>1.4</td>\n",
       "      <td>0.2</td>\n",
       "      <td>Iris-setosa</td>\n",
       "    </tr>\n",
       "    <tr>\n",
       "      <th>2</th>\n",
       "      <td>3</td>\n",
       "      <td>4.7</td>\n",
       "      <td>3.2</td>\n",
       "      <td>1.3</td>\n",
       "      <td>0.2</td>\n",
       "      <td>Iris-setosa</td>\n",
       "    </tr>\n",
       "    <tr>\n",
       "      <th>3</th>\n",
       "      <td>4</td>\n",
       "      <td>4.6</td>\n",
       "      <td>3.1</td>\n",
       "      <td>1.5</td>\n",
       "      <td>0.2</td>\n",
       "      <td>Iris-setosa</td>\n",
       "    </tr>\n",
       "    <tr>\n",
       "      <th>4</th>\n",
       "      <td>5</td>\n",
       "      <td>5.0</td>\n",
       "      <td>3.6</td>\n",
       "      <td>1.4</td>\n",
       "      <td>0.2</td>\n",
       "      <td>Iris-setosa</td>\n",
       "    </tr>\n",
       "    <tr>\n",
       "      <th>...</th>\n",
       "      <td>...</td>\n",
       "      <td>...</td>\n",
       "      <td>...</td>\n",
       "      <td>...</td>\n",
       "      <td>...</td>\n",
       "      <td>...</td>\n",
       "    </tr>\n",
       "    <tr>\n",
       "      <th>145</th>\n",
       "      <td>146</td>\n",
       "      <td>6.7</td>\n",
       "      <td>3.0</td>\n",
       "      <td>5.2</td>\n",
       "      <td>2.3</td>\n",
       "      <td>Iris-virginica</td>\n",
       "    </tr>\n",
       "    <tr>\n",
       "      <th>146</th>\n",
       "      <td>147</td>\n",
       "      <td>6.3</td>\n",
       "      <td>2.5</td>\n",
       "      <td>5.0</td>\n",
       "      <td>1.9</td>\n",
       "      <td>Iris-virginica</td>\n",
       "    </tr>\n",
       "    <tr>\n",
       "      <th>147</th>\n",
       "      <td>148</td>\n",
       "      <td>6.5</td>\n",
       "      <td>3.0</td>\n",
       "      <td>5.2</td>\n",
       "      <td>2.0</td>\n",
       "      <td>Iris-virginica</td>\n",
       "    </tr>\n",
       "    <tr>\n",
       "      <th>148</th>\n",
       "      <td>149</td>\n",
       "      <td>6.2</td>\n",
       "      <td>3.4</td>\n",
       "      <td>5.4</td>\n",
       "      <td>2.3</td>\n",
       "      <td>Iris-virginica</td>\n",
       "    </tr>\n",
       "    <tr>\n",
       "      <th>149</th>\n",
       "      <td>150</td>\n",
       "      <td>5.9</td>\n",
       "      <td>3.0</td>\n",
       "      <td>5.1</td>\n",
       "      <td>1.8</td>\n",
       "      <td>Iris-virginica</td>\n",
       "    </tr>\n",
       "  </tbody>\n",
       "</table>\n",
       "<p>150 rows × 6 columns</p>\n",
       "</div>"
      ],
      "text/plain": [
       "      Id  SepalLengthCm  SepalWidthCm  PetalLengthCm  PetalWidthCm  \\\n",
       "0      1            5.1           3.5            1.4           0.2   \n",
       "1      2            4.9           3.0            1.4           0.2   \n",
       "2      3            4.7           3.2            1.3           0.2   \n",
       "3      4            4.6           3.1            1.5           0.2   \n",
       "4      5            5.0           3.6            1.4           0.2   \n",
       "..   ...            ...           ...            ...           ...   \n",
       "145  146            6.7           3.0            5.2           2.3   \n",
       "146  147            6.3           2.5            5.0           1.9   \n",
       "147  148            6.5           3.0            5.2           2.0   \n",
       "148  149            6.2           3.4            5.4           2.3   \n",
       "149  150            5.9           3.0            5.1           1.8   \n",
       "\n",
       "            Species  \n",
       "0       Iris-setosa  \n",
       "1       Iris-setosa  \n",
       "2       Iris-setosa  \n",
       "3       Iris-setosa  \n",
       "4       Iris-setosa  \n",
       "..              ...  \n",
       "145  Iris-virginica  \n",
       "146  Iris-virginica  \n",
       "147  Iris-virginica  \n",
       "148  Iris-virginica  \n",
       "149  Iris-virginica  \n",
       "\n",
       "[150 rows x 6 columns]"
      ]
     },
     "execution_count": 42,
     "metadata": {},
     "output_type": "execute_result"
    }
   ],
   "source": [
    "df.dropna(inplace = True)\n",
    "df"
   ]
  },
  {
   "cell_type": "markdown",
   "id": "8a02caed",
   "metadata": {},
   "source": [
    "- Replace Empty Values"
   ]
  },
  {
   "cell_type": "code",
   "execution_count": 45,
   "id": "0a43bdab",
   "metadata": {},
   "outputs": [],
   "source": [
    "# df.fillna(130, inplace = True)    \n",
    "# df.fillna({\"PetalWidthCm\": 130}, inplace=True)"
   ]
  },
  {
   "cell_type": "markdown",
   "id": "e1ddc3ac",
   "metadata": {},
   "source": [
    "# Replace Using Mean, Median, or Mode\n",
    "A common way to replace empty cells, is to calculate the mean, median or mode value of the column.\n",
    "\n",
    "Pandas uses the mean() median() and mode() methods to calculate the respective values for a specified column\n",
    "\n",
    "Mean = the average value (the sum of all values divided by number of values).\n",
    "\n",
    "Median = the value in the middle, after you have sorted all values ascending.\n",
    "\n",
    "Mode = the value that appears most frequently."
   ]
  },
  {
   "cell_type": "markdown",
   "id": "3502c0bf",
   "metadata": {},
   "source": [
    "# Cleaning Data of Wrong Format"
   ]
  },
  {
   "cell_type": "code",
   "execution_count": 46,
   "id": "83b8a713",
   "metadata": {},
   "outputs": [],
   "source": [
    "# df['Date'] = pd.to_datetime(df['Date'], format='mixed')\n",
    "# df.dropna(subset=['Date'], inplace = True)\n"
   ]
  },
  {
   "cell_type": "markdown",
   "id": "55b88b86",
   "metadata": {},
   "source": [
    "# Fixing Wrong Data\n",
    "\"Wrong data\" does not have to be \"empty cells\" or \"wrong format\", it can just be wrong, like if someone registered \"199\" instead of \"1.99\".\n",
    "\n",
    "Sometimes you can spot wrong data by looking at the data set, because you have an expectation of what it should be."
   ]
  },
  {
   "cell_type": "code",
   "execution_count": null,
   "id": "66db0832",
   "metadata": {},
   "outputs": [],
   "source": [
    "# df.loc[7, 'Duration'] = 45\n",
    "\n",
    "\n"
   ]
  },
  {
   "cell_type": "code",
   "execution_count": null,
   "id": "a7c7b0ea",
   "metadata": {},
   "outputs": [],
   "source": [
    "# for x in df.index:\n",
    "#   if df.loc[x, \"Duration\"] > 120:\n",
    "#     df.loc[x, \"Duration\"] = 120"
   ]
  },
  {
   "cell_type": "code",
   "execution_count": 52,
   "id": "83ccee87",
   "metadata": {},
   "outputs": [],
   "source": [
    "# for x in df.index:\n",
    "#   if df.loc[x, \"Duration\"] > 120:\n",
    "#     df.drop(x, inplace = True)"
   ]
  },
  {
   "cell_type": "markdown",
   "id": "4cd4bf2e",
   "metadata": {},
   "source": [
    "# Removing Duplicates"
   ]
  },
  {
   "cell_type": "code",
   "execution_count": null,
   "id": "bff1477f",
   "metadata": {},
   "outputs": [
    {
     "name": "stdout",
     "output_type": "stream",
     "text": [
      "0      False\n",
      "1      False\n",
      "2      False\n",
      "3      False\n",
      "4      False\n",
      "       ...  \n",
      "164    False\n",
      "165    False\n",
      "166    False\n",
      "167    False\n",
      "168    False\n",
      "Length: 169, dtype: bool\n"
     ]
    }
   ],
   "source": [
    "print(jdf.duplicated())\n"
   ]
  },
  {
   "cell_type": "code",
   "execution_count": null,
   "id": "d6189d64",
   "metadata": {},
   "outputs": [],
   "source": [
    "# df.drop_duplicates(inplace = True)"
   ]
  }
 ],
 "metadata": {
  "kernelspec": {
   "display_name": "Python 3",
   "language": "python",
   "name": "python3"
  },
  "language_info": {
   "codemirror_mode": {
    "name": "ipython",
    "version": 3
   },
   "file_extension": ".py",
   "mimetype": "text/x-python",
   "name": "python",
   "nbconvert_exporter": "python",
   "pygments_lexer": "ipython3",
   "version": "3.13.0"
  }
 },
 "nbformat": 4,
 "nbformat_minor": 5
}
